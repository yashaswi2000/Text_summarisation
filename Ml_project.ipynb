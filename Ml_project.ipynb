{
  "nbformat": 4,
  "nbformat_minor": 0,
  "metadata": {
    "colab": {
      "name": "Ml project",
      "provenance": [],
      "include_colab_link": true
    },
    "kernelspec": {
      "name": "python3",
      "display_name": "Python 3"
    }
  },
  "cells": [
    {
      "cell_type": "markdown",
      "metadata": {
        "id": "view-in-github",
        "colab_type": "text"
      },
      "source": [
        "<a href=\"https://colab.research.google.com/github/yashaswi2000/Text_summarisation/blob/master/Ml_project.ipynb\" target=\"_parent\"><img src=\"https://colab.research.google.com/assets/colab-badge.svg\" alt=\"Open In Colab\"/></a>"
      ]
    },
    {
      "cell_type": "code",
      "metadata": {
        "id": "SIA3JxYyrquP",
        "colab_type": "code",
        "colab": {}
      },
      "source": [
        "import numpy as np\n",
        "import pandas as pd\n",
        "import os"
      ],
      "execution_count": 0,
      "outputs": []
    },
    {
      "cell_type": "code",
      "metadata": {
        "id": "-h6UAAGRwH4C",
        "colab_type": "code",
        "colab": {}
      },
      "source": [
        "!unzip bbc-news-summary.zip"
      ],
      "execution_count": 0,
      "outputs": []
    },
    {
      "cell_type": "code",
      "metadata": {
        "id": "HWzG_Z0pypoG",
        "colab_type": "code",
        "outputId": "468d2423-2eab-4a54-b75c-f6a982eafb6c",
        "colab": {
          "base_uri": "https://localhost:8080/",
          "height": 399
        }
      },
      "source": [
        "data_path = \"./BBC News Summary\"\n",
        "folders = os.listdir(data_path)\n",
        "article_path = os.path.join(data_path,folders[1])\n",
        "summary_path = os.path.join(data_path,folders[0])\n",
        "categories = os.listdir(article_path)\n",
        "article_list = []\n",
        "summary_list = []\n",
        "for i in categories:\n",
        "  article_files = os.listdir(article_path + '/' + i)\n",
        "  summary_files = os.listdir(summary_path + '/' + i)\n",
        "  for j in range(len(article_files)):\n",
        "    file_path_1 = article_path + '/' + i + '/' + article_files[j]\n",
        "    file_path_2 = summary_path + '/' + i + '/' + summary_files[j]\n",
        "    #print(file_path_1)\n",
        "    f = open(file_path_1)\n",
        "    article_list.append(' '.join(f.read().splitlines()))\n",
        "    f = open(file_path_2)\n",
        "    summary_list.append(' '.join(f.read().splitlines())) \n",
        "d = {'article':article_list,'summary':summary_list}\n",
        "df = pd.DataFrame(d)\n",
        "df"
      ],
      "execution_count": 0,
      "outputs": [
        {
          "output_type": "execute_result",
          "data": {
            "text/html": [
              "<div>\n",
              "<style scoped>\n",
              "    .dataframe tbody tr th:only-of-type {\n",
              "        vertical-align: middle;\n",
              "    }\n",
              "\n",
              "    .dataframe tbody tr th {\n",
              "        vertical-align: top;\n",
              "    }\n",
              "\n",
              "    .dataframe thead th {\n",
              "        text-align: right;\n",
              "    }\n",
              "</style>\n",
              "<table border=\"1\" class=\"dataframe\">\n",
              "  <thead>\n",
              "    <tr style=\"text-align: right;\">\n",
              "      <th></th>\n",
              "      <th>article</th>\n",
              "      <th>summary</th>\n",
              "    </tr>\n",
              "  </thead>\n",
              "  <tbody>\n",
              "    <tr>\n",
              "      <th>0</th>\n",
              "      <td>Brown's poll campaign move denied  The governm...</td>\n",
              "      <td>Labour has always maintained Mr Brown would ha...</td>\n",
              "    </tr>\n",
              "    <tr>\n",
              "      <th>1</th>\n",
              "      <td>Correction agency plans dropped  Plans to crea...</td>\n",
              "      <td>The Scottish Executive will not now merge the ...</td>\n",
              "    </tr>\n",
              "    <tr>\n",
              "      <th>2</th>\n",
              "      <td>Lib Dems' 'bold' election policy  Charles Kenn...</td>\n",
              "      <td>With the other two big parties battling over w...</td>\n",
              "    </tr>\n",
              "    <tr>\n",
              "      <th>3</th>\n",
              "      <td>Blunkett hints at election call  Ex-Home Secre...</td>\n",
              "      <td>He clarified that he meant he would be in his ...</td>\n",
              "    </tr>\n",
              "    <tr>\n",
              "      <th>4</th>\n",
              "      <td>Tories leave door open for Archer  The Conserv...</td>\n",
              "      <td>The Conservative Party would deal \"sympathetic...</td>\n",
              "    </tr>\n",
              "    <tr>\n",
              "      <th>...</th>\n",
              "      <td>...</td>\n",
              "      <td>...</td>\n",
              "    </tr>\n",
              "    <tr>\n",
              "      <th>2220</th>\n",
              "      <td>Fed chief warning on US deficit  Federal Reser...</td>\n",
              "      <td>Federal Reserve chairman Alan Greenspan has wa...</td>\n",
              "    </tr>\n",
              "    <tr>\n",
              "      <th>2221</th>\n",
              "      <td>Police detain Chinese milk bosses  Chinese pol...</td>\n",
              "      <td>Chinese police have detained three top executi...</td>\n",
              "    </tr>\n",
              "    <tr>\n",
              "      <th>2222</th>\n",
              "      <td>Irish company hit by Iraqi report  Shares in I...</td>\n",
              "      <td>Reuters news agency reported that Iraq's Oil M...</td>\n",
              "    </tr>\n",
              "    <tr>\n",
              "      <th>2223</th>\n",
              "      <td>Consumer spending lifts US growth  US economic...</td>\n",
              "      <td>US economic growth accelerated in the third qu...</td>\n",
              "    </tr>\n",
              "    <tr>\n",
              "      <th>2224</th>\n",
              "      <td>Yukos sues four firms for $20bn  Russian oil f...</td>\n",
              "      <td>Russian oil firm Yukos has sued four companies...</td>\n",
              "    </tr>\n",
              "  </tbody>\n",
              "</table>\n",
              "<p>2225 rows × 2 columns</p>\n",
              "</div>"
            ],
            "text/plain": [
              "                                                article                                            summary\n",
              "0     Brown's poll campaign move denied  The governm...  Labour has always maintained Mr Brown would ha...\n",
              "1     Correction agency plans dropped  Plans to crea...  The Scottish Executive will not now merge the ...\n",
              "2     Lib Dems' 'bold' election policy  Charles Kenn...  With the other two big parties battling over w...\n",
              "3     Blunkett hints at election call  Ex-Home Secre...  He clarified that he meant he would be in his ...\n",
              "4     Tories leave door open for Archer  The Conserv...  The Conservative Party would deal \"sympathetic...\n",
              "...                                                 ...                                                ...\n",
              "2220  Fed chief warning on US deficit  Federal Reser...  Federal Reserve chairman Alan Greenspan has wa...\n",
              "2221  Police detain Chinese milk bosses  Chinese pol...  Chinese police have detained three top executi...\n",
              "2222  Irish company hit by Iraqi report  Shares in I...  Reuters news agency reported that Iraq's Oil M...\n",
              "2223  Consumer spending lifts US growth  US economic...  US economic growth accelerated in the third qu...\n",
              "2224  Yukos sues four firms for $20bn  Russian oil f...  Russian oil firm Yukos has sued four companies...\n",
              "\n",
              "[2225 rows x 2 columns]"
            ]
          },
          "metadata": {
            "tags": []
          },
          "execution_count": 45
        }
      ]
    },
    {
      "cell_type": "code",
      "metadata": {
        "id": "2kJkmwipC8b-",
        "colab_type": "code",
        "colab": {}
      },
      "source": [
        ""
      ],
      "execution_count": 0,
      "outputs": []
    }
  ]
}